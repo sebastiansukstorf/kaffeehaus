{
  "nbformat": 4,
  "nbformat_minor": 0,
  "metadata": {
    "colab": {
      "provenance": [],
      "authorship_tag": "ABX9TyNLxcgzPD/45pKa53hB6m2G",
      "include_colab_link": true
    },
    "kernelspec": {
      "name": "python3",
      "display_name": "Python 3"
    },
    "language_info": {
      "name": "python"
    }
  },
  "cells": [
    {
      "cell_type": "markdown",
      "metadata": {
        "id": "view-in-github",
        "colab_type": "text"
      },
      "source": [
        "<a href=\"https://colab.research.google.com/github/sebastiansukstorf/kaffeehaus/blob/main/kaffeehaus.ipynb\" target=\"_parent\"><img src=\"https://colab.research.google.com/assets/colab-badge.svg\" alt=\"Open In Colab\"/></a>"
      ]
    },
    {
      "cell_type": "markdown",
      "source": [
        "# Use Case: Zeitschriftenartikel zu wissenschaftliche Fachgebiete"
      ],
      "metadata": {
        "id": "EfU-N3aB70VK"
      }
    },
    {
      "cell_type": "markdown",
      "source": [
        "## Installation der benötigten Bibliothek PyPDF2"
      ],
      "metadata": {
        "id": "nAQcJkP5A0DI"
      }
    },
    {
      "cell_type": "code",
      "source": [
        "# Installation der benötigten Bibliothek PyPDF2:\n",
        "\n",
        "!pip install PyPDF2"
      ],
      "metadata": {
        "id": "ArsiuLyd8BJS",
        "colab": {
          "base_uri": "https://localhost:8080/"
        },
        "outputId": "4f57c3ff-6a24-4c93-f13c-bc58dcba8132"
      },
      "execution_count": 1,
      "outputs": [
        {
          "output_type": "stream",
          "name": "stdout",
          "text": [
            "Collecting PyPDF2\n",
            "  Downloading pypdf2-3.0.1-py3-none-any.whl.metadata (6.8 kB)\n",
            "Downloading pypdf2-3.0.1-py3-none-any.whl (232 kB)\n",
            "\u001b[?25l   \u001b[90m━━━━━━━━━━━━━━━━━━━━━━━━━━━━━━━━━━━━━━━━\u001b[0m \u001b[32m0.0/232.6 kB\u001b[0m \u001b[31m?\u001b[0m eta \u001b[36m-:--:--\u001b[0m\r\u001b[2K   \u001b[91m━━━━━━━━━━━━━━━━━━━━━━━━━━━━━━━━━━━━━━\u001b[0m\u001b[91m╸\u001b[0m\u001b[90m━\u001b[0m \u001b[32m225.3/232.6 kB\u001b[0m \u001b[31m7.4 MB/s\u001b[0m eta \u001b[36m0:00:01\u001b[0m\r\u001b[2K   \u001b[90m━━━━━━━━━━━━━━━━━━━━━━━━━━━━━━━━━━━━━━━━\u001b[0m \u001b[32m232.6/232.6 kB\u001b[0m \u001b[31m4.5 MB/s\u001b[0m eta \u001b[36m0:00:00\u001b[0m\n",
            "\u001b[?25hInstalling collected packages: PyPDF2\n",
            "Successfully installed PyPDF2-3.0.1\n"
          ]
        }
      ]
    },
    {
      "cell_type": "markdown",
      "source": [
        "## Laden und Lesen der PDF-Datei\n",
        "\n",
        "Anmerkung: Mit dem Einlesen einer Datei muss der Dateiname umgewandelt werden. Alle Leerzichen werden durch '_' ersetzt."
      ],
      "metadata": {
        "id": "ewPyIelTA66q"
      }
    },
    {
      "cell_type": "code",
      "source": [
        "import os\n",
        "print(os.listdir('/content/kaffeehaus/pdf'))\n"
      ],
      "metadata": {
        "id": "pAnKFEDGEN-i",
        "outputId": "eedf0d4b-0efa-494f-cf99-47dd2d0f6338",
        "colab": {
          "base_uri": "https://localhost:8080/",
          "height": 162
        }
      },
      "execution_count": 7,
      "outputs": [
        {
          "output_type": "error",
          "ename": "FileNotFoundError",
          "evalue": "[Errno 2] No such file or directory: '/content/kaffeehaus/pdf'",
          "traceback": [
            "\u001b[0;31m---------------------------------------------------------------------------\u001b[0m",
            "\u001b[0;31mFileNotFoundError\u001b[0m                         Traceback (most recent call last)",
            "\u001b[0;32m<ipython-input-7-53f8ab903bb6>\u001b[0m in \u001b[0;36m<cell line: 0>\u001b[0;34m()\u001b[0m\n\u001b[1;32m      1\u001b[0m \u001b[0;32mimport\u001b[0m \u001b[0mos\u001b[0m\u001b[0;34m\u001b[0m\u001b[0;34m\u001b[0m\u001b[0m\n\u001b[0;32m----> 2\u001b[0;31m \u001b[0mprint\u001b[0m\u001b[0;34m(\u001b[0m\u001b[0mos\u001b[0m\u001b[0;34m.\u001b[0m\u001b[0mlistdir\u001b[0m\u001b[0;34m(\u001b[0m\u001b[0;34m'/content/kaffeehaus/pdf'\u001b[0m\u001b[0;34m)\u001b[0m\u001b[0;34m)\u001b[0m\u001b[0;34m\u001b[0m\u001b[0;34m\u001b[0m\u001b[0m\n\u001b[0m",
            "\u001b[0;31mFileNotFoundError\u001b[0m: [Errno 2] No such file or directory: '/content/kaffeehaus/pdf'"
          ]
        }
      ]
    },
    {
      "cell_type": "code",
      "source": [
        "import PyPDF2\n",
        "import os\n",
        "\n",
        "# Pfad zur PDF-Datei\n",
        "pdf_path = '/content/kaffeehaus/pdf/22.02.25_09_54_Microsoft_Lens.pdf'\n",
        "\n",
        "\n",
        "# Check if the path exists\n",
        "if not os.path.exists(pdf_path):\n",
        "    print(f\"Error: The file at '{pdf_path}' was not found. Please verify the file path is correct.\")\n",
        "else:\n",
        "    # PDF-Datei öffnen\n",
        "    with open(pdf_path, 'rb') as file:\n",
        "        reader = PyPDF2.PdfReader(file)\n",
        "\n",
        "        # Text aus allen Seiten extrahieren\n",
        "        text = ''\n",
        "        for page in reader.pages:\n",
        "            text += page.extract_text()\n",
        "\n",
        "        print(text)\n"
      ],
      "metadata": {
        "colab": {
          "base_uri": "https://localhost:8080/"
        },
        "id": "os_JwmyMBBqh",
        "outputId": "ea99fcbd-1b0a-4a86-8210-ac412ed8800b"
      },
      "execution_count": 6,
      "outputs": [
        {
          "output_type": "stream",
          "name": "stdout",
          "text": [
            "Error: The file at '/content/kaffeehaus/pdf/22.02.25_09_54_Microsoft_Lens.pdf' was not found. Please verify the file path is correct.\n"
          ]
        }
      ]
    }
  ]
}