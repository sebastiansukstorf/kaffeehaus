{
  "nbformat": 4,
  "nbformat_minor": 0,
  "metadata": {
    "colab": {
      "provenance": [],
      "authorship_tag": "ABX9TyNczTvzzk/zTJwddZbsm84G",
      "include_colab_link": true
    },
    "kernelspec": {
      "name": "python3",
      "display_name": "Python 3"
    },
    "language_info": {
      "name": "python"
    }
  },
  "cells": [
    {
      "cell_type": "markdown",
      "metadata": {
        "id": "view-in-github",
        "colab_type": "text"
      },
      "source": [
        "<a href=\"https://colab.research.google.com/github/sebastiansukstorf/kaffeehaus/blob/main/kaffeehaus.ipynb\" target=\"_parent\"><img src=\"https://colab.research.google.com/assets/colab-badge.svg\" alt=\"Open In Colab\"/></a>"
      ]
    },
    {
      "cell_type": "markdown",
      "source": [
        "# Use Case: Zeitschriftenartikel zu wissenschaftliche Fachgebiete"
      ],
      "metadata": {
        "id": "EfU-N3aB70VK"
      }
    },
    {
      "cell_type": "markdown",
      "source": [
        "## Installation der benötigten Bibliothek PyPDF2"
      ],
      "metadata": {
        "id": "nAQcJkP5A0DI"
      }
    },
    {
      "cell_type": "code",
      "source": [
        "# Installation der benötigten Bibliothek PyPDF2:\n",
        "\n",
        "!pip install PyPDF2"
      ],
      "metadata": {
        "id": "ArsiuLyd8BJS",
        "outputId": "4f57c3ff-6a24-4c93-f13c-bc58dcba8132",
        "colab": {
          "base_uri": "https://localhost:8080/"
        }
      },
      "execution_count": 1,
      "outputs": [
        {
          "output_type": "stream",
          "name": "stdout",
          "text": [
            "Collecting PyPDF2\n",
            "  Downloading pypdf2-3.0.1-py3-none-any.whl.metadata (6.8 kB)\n",
            "Downloading pypdf2-3.0.1-py3-none-any.whl (232 kB)\n",
            "\u001b[?25l   \u001b[90m━━━━━━━━━━━━━━━━━━━━━━━━━━━━━━━━━━━━━━━━\u001b[0m \u001b[32m0.0/232.6 kB\u001b[0m \u001b[31m?\u001b[0m eta \u001b[36m-:--:--\u001b[0m\r\u001b[2K   \u001b[91m━━━━━━━━━━━━━━━━━━━━━━━━━━━━━━━━━━━━━━\u001b[0m\u001b[91m╸\u001b[0m\u001b[90m━\u001b[0m \u001b[32m225.3/232.6 kB\u001b[0m \u001b[31m7.4 MB/s\u001b[0m eta \u001b[36m0:00:01\u001b[0m\r\u001b[2K   \u001b[90m━━━━━━━━━━━━━━━━━━━━━━━━━━━━━━━━━━━━━━━━\u001b[0m \u001b[32m232.6/232.6 kB\u001b[0m \u001b[31m4.5 MB/s\u001b[0m eta \u001b[36m0:00:00\u001b[0m\n",
            "\u001b[?25hInstalling collected packages: PyPDF2\n",
            "Successfully installed PyPDF2-3.0.1\n"
          ]
        }
      ]
    },
    {
      "cell_type": "markdown",
      "source": [
        "## Laden und Lesen der PDF-Datei\n",
        "\n",
        "Anmerkung: Mit dem Einlesen einer Datei muss der Dateiname umgewandelt werden. Alle Leerzichen werden durch '_' ersetzt."
      ],
      "metadata": {
        "id": "ewPyIelTA66q"
      }
    },
    {
      "cell_type": "code",
      "source": [
        "import PyPDF2\n",
        "import os\n",
        "\n",
        "# Pfad zur PDF-Datei\n",
        "pdf_path = '/kaffeehaus/blob/main/pdf/22.02.25_09_54_Microsoft_Lens.pdf'\n",
        "\n",
        "\n",
        "# PDF-Datei öffnen\n",
        "with open(pdf_path, 'rb') as file:\n",
        "    reader = PyPDF2.PdfReader(file)\n",
        "\n",
        "    # Text aus allen Seiten extrahieren\n",
        "    text = ''\n",
        "    for page in reader.pages:\n",
        "        text += page.extract_text()\n",
        "\n",
        "print(text)\n"
      ],
      "metadata": {
        "id": "os_JwmyMBBqh"
      },
      "execution_count": null,
      "outputs": []
    }
  ]
}